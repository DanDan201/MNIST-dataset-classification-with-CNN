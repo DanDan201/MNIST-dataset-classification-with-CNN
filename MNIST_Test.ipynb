{
 "cells": [
  {
   "cell_type": "markdown",
   "source": [
    "Import libraries"
   ],
   "metadata": {
    "collapsed": false
   }
  },
  {
   "cell_type": "code",
   "execution_count": 1,
   "outputs": [],
   "source": [
    "import torch\n",
    "from torch import nn, optim\n",
    "from torchsummary import summary\n",
    "import torchvision\n",
    "import matplotlib.pyplot as plt"
   ],
   "metadata": {
    "collapsed": false,
    "ExecuteTime": {
     "end_time": "2023-07-24T01:34:09.584835400Z",
     "start_time": "2023-07-24T01:34:05.551122600Z"
    }
   }
  },
  {
   "cell_type": "markdown",
   "source": [
    "Check device to use"
   ],
   "metadata": {
    "collapsed": false
   }
  },
  {
   "cell_type": "code",
   "execution_count": 2,
   "outputs": [
    {
     "name": "stdout",
     "output_type": "stream",
     "text": [
      "Device: cuda:0\n"
     ]
    }
   ],
   "source": [
    "device = torch.device(\"cuda:0\" if torch.cuda.is_available() else \"cpu\")\n",
    "print(\"Device: {}\".format(device))"
   ],
   "metadata": {
    "collapsed": false,
    "ExecuteTime": {
     "end_time": "2023-07-24T01:34:10.868465500Z",
     "start_time": "2023-07-24T01:34:10.863892700Z"
    }
   }
  },
  {
   "cell_type": "markdown",
   "source": [
    "Load data into train loader"
   ],
   "metadata": {
    "collapsed": false
   }
  },
  {
   "cell_type": "code",
   "execution_count": 3,
   "outputs": [
    {
     "name": "stdout",
     "output_type": "stream",
     "text": [
      "<torch.utils.data.dataloader.DataLoader object at 0x0000027D0BCAF710>\n"
     ]
    }
   ],
   "source": [
    "batch_size_train = 64\n",
    "batch_size_test = 64\n",
    "\n",
    "train_dataset = torchvision.datasets.MNIST('/files/', train=True, download=True, transform=torchvision.transforms.ToTensor())\n",
    "train_loader = torch.utils.data.DataLoader(train_dataset, batch_size=batch_size_train, shuffle=True)\n",
    "test_dataset = torchvision.datasets.MNIST('/files/', train=False, download=True, transform=torchvision.transforms.ToTensor())\n",
    "test_loader = torch.utils.data.DataLoader(test_dataset, batch_size=batch_size_test, shuffle=True)\n",
    "\n",
    "print(train_loader)"
   ],
   "metadata": {
    "collapsed": false,
    "ExecuteTime": {
     "end_time": "2023-07-24T01:34:10.945212300Z",
     "start_time": "2023-07-24T01:34:10.869465Z"
    }
   }
  },
  {
   "cell_type": "markdown",
   "source": [
    "Create the model"
   ],
   "metadata": {
    "collapsed": false
   }
  },
  {
   "cell_type": "code",
   "execution_count": 4,
   "outputs": [
    {
     "name": "stdout",
     "output_type": "stream",
     "text": [
      "----------------------------------------------------------------\n",
      "        Layer (type)               Output Shape         Param #\n",
      "================================================================\n",
      "            Conv2d-1           [-1, 64, 28, 28]             640\n",
      "              ReLU-2           [-1, 64, 28, 28]               0\n",
      "            Conv2d-3           [-1, 64, 28, 28]          36,928\n",
      "              ReLU-4           [-1, 64, 28, 28]               0\n",
      "         MaxPool2d-5           [-1, 64, 14, 14]               0\n",
      "       BatchNorm2d-6           [-1, 64, 14, 14]             128\n",
      "            Conv2d-7          [-1, 128, 14, 14]          73,856\n",
      "              ReLU-8          [-1, 128, 14, 14]               0\n",
      "            Conv2d-9          [-1, 128, 14, 14]         147,584\n",
      "             ReLU-10          [-1, 128, 14, 14]               0\n",
      "        MaxPool2d-11            [-1, 128, 7, 7]               0\n",
      "      BatchNorm2d-12            [-1, 128, 7, 7]             256\n",
      "           Conv2d-13            [-1, 256, 7, 7]         295,168\n",
      "             ReLU-14            [-1, 256, 7, 7]               0\n",
      "           Conv2d-15            [-1, 256, 7, 7]         590,080\n",
      "             ReLU-16            [-1, 256, 7, 7]               0\n",
      "           Conv2d-17            [-1, 256, 7, 7]         590,080\n",
      "             ReLU-18            [-1, 256, 7, 7]               0\n",
      "           Conv2d-19            [-1, 256, 7, 7]         590,080\n",
      "             ReLU-20            [-1, 256, 7, 7]               0\n",
      "        MaxPool2d-21            [-1, 256, 3, 3]               0\n",
      "      BatchNorm2d-22            [-1, 256, 3, 3]             512\n",
      "           Conv2d-23            [-1, 512, 3, 3]       1,180,160\n",
      "             ReLU-24            [-1, 512, 3, 3]               0\n",
      "           Conv2d-25            [-1, 512, 3, 3]       2,359,808\n",
      "             ReLU-26            [-1, 512, 3, 3]               0\n",
      "           Conv2d-27            [-1, 512, 3, 3]       2,359,808\n",
      "             ReLU-28            [-1, 512, 3, 3]               0\n",
      "           Conv2d-29            [-1, 512, 3, 3]       2,359,808\n",
      "             ReLU-30            [-1, 512, 3, 3]               0\n",
      "        MaxPool2d-31            [-1, 512, 1, 1]               0\n",
      "      BatchNorm2d-32            [-1, 512, 1, 1]           1,024\n",
      "          Flatten-33                  [-1, 512]               0\n",
      "           Linear-34                   [-1, 64]          32,832\n",
      "             ReLU-35                   [-1, 64]               0\n",
      "          Dropout-36                   [-1, 64]               0\n",
      "           Linear-37                   [-1, 10]             650\n",
      "          Softmax-38                   [-1, 10]               0\n",
      "================================================================\n",
      "Total params: 10,619,402\n",
      "Trainable params: 10,619,402\n",
      "Non-trainable params: 0\n",
      "----------------------------------------------------------------\n",
      "Input size (MB): 0.00\n",
      "Forward/backward pass size (MB): 3.68\n",
      "Params size (MB): 40.51\n",
      "Estimated Total Size (MB): 44.19\n",
      "----------------------------------------------------------------\n"
     ]
    }
   ],
   "source": [
    "model = nn.Sequential()\n",
    "\n",
    "# Add 3 convolutional and pooling layers\n",
    "model.add_module('Conv_1', nn.Conv2d(in_channels=1, out_channels=64, kernel_size=(3,3), padding=1))\n",
    "model.add_module('Relu_1', nn.ReLU())\n",
    "model.add_module('Conv_2', nn.Conv2d(in_channels=64, out_channels=64, kernel_size=(3,3), padding=1))\n",
    "model.add_module('Relu_2', nn.ReLU())\n",
    "model.add_module('MaxPool_1', nn.MaxPool2d(kernel_size=2, stride = 2))\n",
    "model.add_module('Batchnorm_1', nn.BatchNorm2d(64))\n",
    "\n",
    "model.add_module('Conv_3', nn.Conv2d(in_channels=64, out_channels=128, kernel_size=(3,3), padding=1))\n",
    "model.add_module('Relu_3', nn.ReLU())\n",
    "model.add_module('Conv_4', nn.Conv2d(in_channels=128, out_channels=128, kernel_size=(3,3), padding=1))\n",
    "model.add_module('Relu_4', nn.ReLU())\n",
    "model.add_module('MaxPool_2', nn.MaxPool2d(kernel_size=2, stride = 2))\n",
    "model.add_module('Batchnorm_2', nn.BatchNorm2d(128))\n",
    "\n",
    "model.add_module('Conv_5', nn.Conv2d(in_channels=128, out_channels=256, kernel_size=(3,3), padding=1))\n",
    "model.add_module('Relu_5', nn.ReLU())\n",
    "model.add_module('Conv_6', nn.Conv2d(in_channels=256, out_channels=256, kernel_size = (3,3), padding=1))\n",
    "model.add_module('Relu_6', nn.ReLU())\n",
    "model.add_module('Conv_7', nn.Conv2d(in_channels=256, out_channels=256, kernel_size = (3,3), padding=1))\n",
    "model.add_module('Relu_7', nn.ReLU())\n",
    "model.add_module('Conv_8', nn.Conv2d(in_channels=256, out_channels=256, kernel_size = (3,3), padding=1))\n",
    "model.add_module('Relu_8', nn.ReLU())\n",
    "model.add_module('MaxPool_3', nn.MaxPool2d(kernel_size=2,stride=2))\n",
    "model.add_module('Batchnorm_3', nn.BatchNorm2d(256))\n",
    "\n",
    "model.add_module('Conv_9', nn.Conv2d(in_channels=256, out_channels=512, kernel_size=(3,3), padding=1))\n",
    "model.add_module('Relu_9', nn.ReLU())\n",
    "model.add_module('Conv_10', nn.Conv2d(in_channels=512, out_channels=512, kernel_size = (3,3), padding=1))\n",
    "model.add_module('Relu_10', nn.ReLU())\n",
    "model.add_module('Conv_11', nn.Conv2d(in_channels=512, out_channels=512, kernel_size = (3,3), padding=1))\n",
    "model.add_module('Relu_11', nn.ReLU())\n",
    "model.add_module('Conv_12', nn.Conv2d(in_channels=512, out_channels=512, kernel_size = (3,3), padding=1))\n",
    "model.add_module('Relu_12', nn.ReLU())\n",
    "model.add_module('MaxPool_4', nn.MaxPool2d(kernel_size=2,stride=2))\n",
    "model.add_module('Batchnorm_4', nn.BatchNorm2d(512))\n",
    "\n",
    "# Add a Flatten layer to the model\n",
    "model.add_module('Flatten', nn.Flatten())\n",
    "\n",
    "# Add a Linear layer with 64 units and relu activation\n",
    "model.add_module('Linear_1', nn.Linear(in_features=512, out_features=64, bias=True))\n",
    "model.add_module('Relu_L_1', nn.ReLU(inplace=True))\n",
    "model.add_module('Dropout_1', nn.Dropout(p = 0.5))\n",
    "model.add_module('Linear_3', nn.Linear(in_features = 64, out_features = 10, bias = True))\n",
    "model.add_module('Out_activation', nn.Softmax(-1))\n",
    "\n",
    "in_shape = (1,28,28)\n",
    "model = model.to(device)\n",
    "summary(model, input_size=(in_shape))"
   ],
   "metadata": {
    "collapsed": false,
    "ExecuteTime": {
     "end_time": "2023-07-24T01:34:17.813118500Z",
     "start_time": "2023-07-24T01:34:10.952212500Z"
    }
   }
  },
  {
   "cell_type": "markdown",
   "source": [
    "Set the hyperparameters"
   ],
   "metadata": {
    "collapsed": false
   }
  },
  {
   "cell_type": "code",
   "execution_count": 5,
   "outputs": [],
   "source": [
    "optimizer = optim.SGD(model.parameters(),momentum=0.9, lr=0.005, weight_decay= 5e-4)\n",
    "loss_func = nn.CrossEntropyLoss(reduction='mean')\n",
    "num_epochs = 100"
   ],
   "metadata": {
    "collapsed": false,
    "ExecuteTime": {
     "end_time": "2023-07-24T01:34:17.832967100Z",
     "start_time": "2023-07-24T01:34:17.814119200Z"
    }
   }
  },
  {
   "cell_type": "markdown",
   "source": [
    "Train the model"
   ],
   "metadata": {
    "collapsed": false
   }
  },
  {
   "cell_type": "code",
   "execution_count": 6,
   "outputs": [
    {
     "name": "stdout",
     "output_type": "stream",
     "text": [
      "Epoch 1/100 - Training Loss: 1.5460 - Validation Loss: 1.4800\n",
      "Epoch 2/100 - Training Loss: 1.4808 - Validation Loss: 1.4722\n",
      "Epoch 3/100 - Training Loss: 1.4773 - Validation Loss: 1.4694\n",
      "Epoch 4/100 - Training Loss: 1.4749 - Validation Loss: 1.4707\n",
      "Epoch 5/100 - Training Loss: 1.4731 - Validation Loss: 1.4680\n",
      "Epoch 6/100 - Training Loss: 1.4727 - Validation Loss: 1.4681\n",
      "Epoch 7/100 - Training Loss: 1.4724 - Validation Loss: 1.4704\n",
      "Epoch 8/100 - Training Loss: 1.4708 - Validation Loss: 1.4690\n",
      "Epoch 9/100 - Training Loss: 1.4707 - Validation Loss: 1.4693\n",
      "Epoch 10/100 - Training Loss: 1.4699 - Validation Loss: 1.4692\n",
      "Epoch 11/100 - Training Loss: 1.4695 - Validation Loss: 1.4693\n",
      "Epoch 12/100 - Training Loss: 1.4694 - Validation Loss: 1.4683\n",
      "Epoch 13/100 - Training Loss: 1.4690 - Validation Loss: 1.4687\n",
      "Epoch 14/100 - Training Loss: 1.4683 - Validation Loss: 1.4700\n",
      "Epoch 15/100 - Training Loss: 1.4674 - Validation Loss: 1.4681\n",
      "Epoch 16/100 - Training Loss: 1.4680 - Validation Loss: 1.4707\n",
      "Epoch 17/100 - Training Loss: 1.4685 - Validation Loss: 1.4683\n",
      "Epoch 18/100 - Training Loss: 1.4692 - Validation Loss: 1.4675\n",
      "Epoch 19/100 - Training Loss: 1.4675 - Validation Loss: 1.4682\n",
      "Epoch 20/100 - Training Loss: 1.4676 - Validation Loss: 1.4715\n",
      "Epoch 21/100 - Training Loss: 1.4677 - Validation Loss: 1.4670\n",
      "Epoch 22/100 - Training Loss: 1.4669 - Validation Loss: 1.4670\n",
      "Epoch 23/100 - Training Loss: 1.4669 - Validation Loss: 1.4696\n",
      "Epoch 24/100 - Training Loss: 1.4661 - Validation Loss: 1.4663\n",
      "Epoch 25/100 - Training Loss: 1.4659 - Validation Loss: 1.4663\n",
      "Epoch 26/100 - Training Loss: 1.4667 - Validation Loss: 1.4677\n",
      "Epoch 27/100 - Training Loss: 1.4661 - Validation Loss: 1.4662\n",
      "Epoch 28/100 - Training Loss: 1.4662 - Validation Loss: 1.4673\n",
      "Epoch 29/100 - Training Loss: 1.4664 - Validation Loss: 1.4666\n",
      "Epoch 30/100 - Training Loss: 1.4665 - Validation Loss: 1.4666\n",
      "Epoch 31/100 - Training Loss: 1.4656 - Validation Loss: 1.4675\n",
      "Epoch 32/100 - Training Loss: 1.4660 - Validation Loss: 1.4663\n",
      "Epoch 33/100 - Training Loss: 1.4655 - Validation Loss: 1.4664\n",
      "Epoch 34/100 - Training Loss: 1.4659 - Validation Loss: 1.4658\n",
      "Epoch 35/100 - Training Loss: 1.4665 - Validation Loss: 1.4666\n",
      "Epoch 36/100 - Training Loss: 1.4657 - Validation Loss: 1.4662\n",
      "Epoch 37/100 - Training Loss: 1.4657 - Validation Loss: 1.4663\n",
      "Epoch 38/100 - Training Loss: 1.4660 - Validation Loss: 1.4674\n",
      "Epoch 39/100 - Training Loss: 1.4658 - Validation Loss: 1.4663\n",
      "Epoch 40/100 - Training Loss: 1.4658 - Validation Loss: 1.4674\n",
      "Epoch 41/100 - Training Loss: 1.4664 - Validation Loss: 1.4675\n",
      "Epoch 42/100 - Training Loss: 1.4664 - Validation Loss: 1.4672\n",
      "Epoch 43/100 - Training Loss: 1.4663 - Validation Loss: 1.4690\n",
      "Epoch 44/100 - Training Loss: 1.4663 - Validation Loss: 1.4655\n",
      "Epoch 45/100 - Training Loss: 1.4663 - Validation Loss: 1.4662\n",
      "Epoch 46/100 - Training Loss: 1.4661 - Validation Loss: 1.4697\n",
      "Epoch 47/100 - Training Loss: 1.4663 - Validation Loss: 1.4678\n",
      "Epoch 48/100 - Training Loss: 1.4660 - Validation Loss: 1.4661\n",
      "Epoch 49/100 - Training Loss: 1.4663 - Validation Loss: 1.4676\n",
      "Epoch 50/100 - Training Loss: 1.4657 - Validation Loss: 1.4655\n",
      "Epoch 51/100 - Training Loss: 1.4656 - Validation Loss: 1.4659\n",
      "Epoch 52/100 - Training Loss: 1.4653 - Validation Loss: 1.4656\n",
      "Epoch 53/100 - Training Loss: 1.4655 - Validation Loss: 1.4659\n",
      "Epoch 54/100 - Training Loss: 1.4661 - Validation Loss: 1.4657\n",
      "Epoch 55/100 - Training Loss: 1.4661 - Validation Loss: 1.4665\n",
      "Epoch 56/100 - Training Loss: 1.4660 - Validation Loss: 1.4660\n",
      "Epoch 57/100 - Training Loss: 1.4659 - Validation Loss: 1.4659\n",
      "Epoch 58/100 - Training Loss: 1.4658 - Validation Loss: 1.4674\n",
      "Epoch 59/100 - Training Loss: 1.4663 - Validation Loss: 1.4661\n",
      "Epoch 60/100 - Training Loss: 1.4664 - Validation Loss: 1.4686\n",
      "Epoch 61/100 - Training Loss: 1.4665 - Validation Loss: 1.4686\n",
      "Epoch 62/100 - Training Loss: 1.4658 - Validation Loss: 1.4657\n",
      "Epoch 63/100 - Training Loss: 1.4662 - Validation Loss: 1.4673\n",
      "Epoch 64/100 - Training Loss: 1.4667 - Validation Loss: 1.4657\n",
      "Epoch 65/100 - Training Loss: 1.4670 - Validation Loss: 1.4680\n",
      "Epoch 66/100 - Training Loss: 1.4665 - Validation Loss: 1.4671\n",
      "Epoch 67/100 - Training Loss: 1.4669 - Validation Loss: 1.4673\n",
      "Epoch 68/100 - Training Loss: 1.4667 - Validation Loss: 1.4660\n",
      "Epoch 69/100 - Training Loss: 1.4660 - Validation Loss: 1.4668\n",
      "Epoch 70/100 - Training Loss: 1.4661 - Validation Loss: 1.4658\n",
      "Epoch 71/100 - Training Loss: 1.4664 - Validation Loss: 1.4683\n",
      "Epoch 72/100 - Training Loss: 1.4663 - Validation Loss: 1.4658\n",
      "Epoch 73/100 - Training Loss: 1.4660 - Validation Loss: 1.4663\n",
      "Epoch 74/100 - Training Loss: 1.4660 - Validation Loss: 1.4663\n"
     ]
    },
    {
     "ename": "KeyboardInterrupt",
     "evalue": "",
     "output_type": "error",
     "traceback": [
      "\u001B[1;31m---------------------------------------------------------------------------\u001B[0m",
      "\u001B[1;31mKeyboardInterrupt\u001B[0m                         Traceback (most recent call last)",
      "Cell \u001B[1;32mIn[6], line 4\u001B[0m\n\u001B[0;32m      2\u001B[0m model\u001B[38;5;241m.\u001B[39mtrain()\n\u001B[0;32m      3\u001B[0m train_loss \u001B[38;5;241m=\u001B[39m \u001B[38;5;241m0.0\u001B[39m\n\u001B[1;32m----> 4\u001B[0m \u001B[38;5;28;01mfor\u001B[39;00m inputs, labels \u001B[38;5;129;01min\u001B[39;00m train_loader:\n\u001B[0;32m      5\u001B[0m     inputs \u001B[38;5;241m=\u001B[39m inputs\u001B[38;5;241m.\u001B[39mto(device)\n\u001B[0;32m      6\u001B[0m     labels \u001B[38;5;241m=\u001B[39m labels\u001B[38;5;241m.\u001B[39mto(device)\n",
      "File \u001B[1;32m~\\anaconda3\\Lib\\site-packages\\torch\\utils\\data\\dataloader.py:629\u001B[0m, in \u001B[0;36m_BaseDataLoaderIter.__next__\u001B[1;34m(self)\u001B[0m\n\u001B[0;32m    628\u001B[0m \u001B[38;5;28;01mdef\u001B[39;00m \u001B[38;5;21m__next__\u001B[39m(\u001B[38;5;28mself\u001B[39m) \u001B[38;5;241m-\u001B[39m\u001B[38;5;241m>\u001B[39m Any:\n\u001B[1;32m--> 629\u001B[0m     \u001B[38;5;28;01mwith\u001B[39;00m torch\u001B[38;5;241m.\u001B[39mautograd\u001B[38;5;241m.\u001B[39mprofiler\u001B[38;5;241m.\u001B[39mrecord_function(\u001B[38;5;28mself\u001B[39m\u001B[38;5;241m.\u001B[39m_profile_name):\n\u001B[0;32m    630\u001B[0m         \u001B[38;5;28;01mif\u001B[39;00m \u001B[38;5;28mself\u001B[39m\u001B[38;5;241m.\u001B[39m_sampler_iter \u001B[38;5;129;01mis\u001B[39;00m \u001B[38;5;28;01mNone\u001B[39;00m:\n\u001B[0;32m    631\u001B[0m             \u001B[38;5;66;03m# TODO(https://github.com/pytorch/pytorch/issues/76750)\u001B[39;00m\n\u001B[0;32m    632\u001B[0m             \u001B[38;5;28mself\u001B[39m\u001B[38;5;241m.\u001B[39m_reset()  \u001B[38;5;66;03m# type: ignore[call-arg]\u001B[39;00m\n",
      "File \u001B[1;32m~\\anaconda3\\Lib\\site-packages\\torch\\autograd\\profiler.py:492\u001B[0m, in \u001B[0;36mrecord_function.__enter__\u001B[1;34m(self)\u001B[0m\n\u001B[0;32m    491\u001B[0m \u001B[38;5;28;01mdef\u001B[39;00m \u001B[38;5;21m__enter__\u001B[39m(\u001B[38;5;28mself\u001B[39m):\n\u001B[1;32m--> 492\u001B[0m     \u001B[38;5;28mself\u001B[39m\u001B[38;5;241m.\u001B[39mrecord \u001B[38;5;241m=\u001B[39m torch\u001B[38;5;241m.\u001B[39mops\u001B[38;5;241m.\u001B[39mprofiler\u001B[38;5;241m.\u001B[39m_record_function_enter_new(\u001B[38;5;28mself\u001B[39m\u001B[38;5;241m.\u001B[39mname, \u001B[38;5;28mself\u001B[39m\u001B[38;5;241m.\u001B[39margs)\n\u001B[0;32m    493\u001B[0m     \u001B[38;5;28;01mreturn\u001B[39;00m \u001B[38;5;28mself\u001B[39m\n",
      "File \u001B[1;32m~\\anaconda3\\Lib\\site-packages\\torch\\_ops.py:502\u001B[0m, in \u001B[0;36mOpOverloadPacket.__call__\u001B[1;34m(self, *args, **kwargs)\u001B[0m\n\u001B[0;32m    497\u001B[0m \u001B[38;5;28;01mdef\u001B[39;00m \u001B[38;5;21m__call__\u001B[39m(\u001B[38;5;28mself\u001B[39m, \u001B[38;5;241m*\u001B[39margs, \u001B[38;5;241m*\u001B[39m\u001B[38;5;241m*\u001B[39mkwargs):\n\u001B[0;32m    498\u001B[0m     \u001B[38;5;66;03m# overloading __call__ to ensure torch.ops.foo.bar()\u001B[39;00m\n\u001B[0;32m    499\u001B[0m     \u001B[38;5;66;03m# is still callable from JIT\u001B[39;00m\n\u001B[0;32m    500\u001B[0m     \u001B[38;5;66;03m# We save the function ptr as the `op` attribute on\u001B[39;00m\n\u001B[0;32m    501\u001B[0m     \u001B[38;5;66;03m# OpOverloadPacket to access it here.\u001B[39;00m\n\u001B[1;32m--> 502\u001B[0m     \u001B[38;5;28;01mreturn\u001B[39;00m \u001B[38;5;28mself\u001B[39m\u001B[38;5;241m.\u001B[39m_op(\u001B[38;5;241m*\u001B[39margs, \u001B[38;5;241m*\u001B[39m\u001B[38;5;241m*\u001B[39mkwargs \u001B[38;5;129;01mor\u001B[39;00m {})\n",
      "\u001B[1;31mKeyboardInterrupt\u001B[0m: "
     ]
    }
   ],
   "source": [
    "for epoch in range(num_epochs):\n",
    "    model.train()\n",
    "    train_loss = 0.0\n",
    "    for inputs, labels in train_loader:\n",
    "        inputs = inputs.to(device)\n",
    "        labels = labels.to(device)\n",
    "        optimizer.zero_grad()\n",
    "        outputs = model(inputs)\n",
    "        loss = loss_func(outputs, labels)\n",
    "        loss.backward()\n",
    "        optimizer.step()\n",
    "        train_loss += loss.item()\n",
    "\n",
    "    model.eval()\n",
    "    test_loss = 0\n",
    "    with torch.no_grad():\n",
    "        for inputs, labels in test_loader:\n",
    "            inputs = inputs.to(device)\n",
    "            labels = labels.to(device)\n",
    "            outputs = model(inputs)\n",
    "            loss = loss_func(outputs, labels)\n",
    "            test_loss += loss.item()\n",
    "    print(\n",
    "        f\"Epoch {epoch + 1}/{num_epochs} - Training Loss: {train_loss / len(train_loader):.4f} - Validation Loss: {test_loss / len(test_loader):.4f}\")\n"
   ],
   "metadata": {
    "collapsed": false,
    "ExecuteTime": {
     "end_time": "2023-07-24T02:02:07.410989500Z",
     "start_time": "2023-07-24T01:34:17.832967100Z"
    }
   }
  },
  {
   "cell_type": "markdown",
   "source": [
    "Evaluate the model"
   ],
   "metadata": {
    "collapsed": false
   }
  },
  {
   "cell_type": "code",
   "execution_count": 7,
   "outputs": [
    {
     "name": "stdout",
     "output_type": "stream",
     "text": [
      "Test accuracy: 0.996\n"
     ]
    }
   ],
   "source": [
    "model.eval()\n",
    "test_acc = 0\n",
    "for images, labels in test_loader:\n",
    "    images = images.to(device)\n",
    "    labels = labels.to(device)\n",
    "    predictions = model(images)\n",
    "    accuracy = (torch.max(predictions, dim=-1, keepdim=True)[1].flatten() == labels).sum() / len(labels)\n",
    "    test_acc += accuracy.item()\n",
    "test_acc /= len(test_loader)\n",
    "print(f\"Test accuracy: {test_acc:.3f}\")"
   ],
   "metadata": {
    "collapsed": false,
    "ExecuteTime": {
     "end_time": "2023-07-24T02:02:13.315113600Z",
     "start_time": "2023-07-24T02:02:11.804885600Z"
    }
   }
  },
  {
   "cell_type": "code",
   "execution_count": null,
   "outputs": [],
   "source": [],
   "metadata": {
    "collapsed": false
   }
  }
 ],
 "metadata": {
  "kernelspec": {
   "display_name": "Python 3",
   "language": "python",
   "name": "python3"
  },
  "language_info": {
   "codemirror_mode": {
    "name": "ipython",
    "version": 2
   },
   "file_extension": ".py",
   "mimetype": "text/x-python",
   "name": "python",
   "nbconvert_exporter": "python",
   "pygments_lexer": "ipython2",
   "version": "2.7.6"
  }
 },
 "nbformat": 4,
 "nbformat_minor": 0
}
