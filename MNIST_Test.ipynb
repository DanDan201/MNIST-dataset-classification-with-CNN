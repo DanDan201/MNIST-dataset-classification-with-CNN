{
 "cells": [
  {
   "cell_type": "markdown",
   "source": [
    "Import libraries"
   ],
   "metadata": {
    "collapsed": false
   }
  },
  {
   "cell_type": "code",
   "execution_count": 22,
   "outputs": [],
   "source": [
    "import torch\n",
    "from torch import nn, optim\n",
    "from torchsummary import summary\n",
    "import torchvision\n",
    "import matplotlib.pyplot as plt"
   ],
   "metadata": {
    "collapsed": false,
    "ExecuteTime": {
     "end_time": "2023-07-23T10:30:41.129279100Z",
     "start_time": "2023-07-23T10:30:41.108993Z"
    }
   }
  },
  {
   "cell_type": "markdown",
   "source": [
    "Check device to use"
   ],
   "metadata": {
    "collapsed": false
   }
  },
  {
   "cell_type": "code",
   "execution_count": 23,
   "outputs": [
    {
     "name": "stdout",
     "output_type": "stream",
     "text": [
      "Device: cuda:0\n"
     ]
    }
   ],
   "source": [
    "device = torch.device(\"cuda:0\" if torch.cuda.is_available() else \"cpu\")\n",
    "print(\"Device: {}\".format(device))"
   ],
   "metadata": {
    "collapsed": false,
    "ExecuteTime": {
     "end_time": "2023-07-23T10:30:41.129279100Z",
     "start_time": "2023-07-23T10:30:41.113502600Z"
    }
   }
  },
  {
   "cell_type": "markdown",
   "source": [
    "Load data into train loader"
   ],
   "metadata": {
    "collapsed": false
   }
  },
  {
   "cell_type": "code",
   "execution_count": 24,
   "outputs": [
    {
     "name": "stdout",
     "output_type": "stream",
     "text": [
      "<torch.utils.data.dataloader.DataLoader object at 0x0000023AEA6BE150>\n"
     ]
    }
   ],
   "source": [
    "batch_size_train = 64\n",
    "batch_size_test = 64\n",
    "\n",
    "train_dataset = torchvision.datasets.MNIST('/files/', train=True, download=True, transform=torchvision.transforms.ToTensor())\n",
    "train_loader = torch.utils.data.DataLoader(train_dataset, batch_size=batch_size_train, shuffle=True)\n",
    "test_dataset = torchvision.datasets.MNIST('/files/', train=False, download=True, transform=torchvision.transforms.ToTensor())\n",
    "test_loader = torch.utils.data.DataLoader(test_dataset, batch_size=batch_size_test, shuffle=True)\n",
    "\n",
    "print(train_loader)"
   ],
   "metadata": {
    "collapsed": false,
    "ExecuteTime": {
     "end_time": "2023-07-23T10:30:41.175726500Z",
     "start_time": "2023-07-23T10:30:41.116754100Z"
    }
   }
  },
  {
   "cell_type": "markdown",
   "source": [
    "Create the model"
   ],
   "metadata": {
    "collapsed": false
   }
  },
  {
   "cell_type": "code",
   "execution_count": 26,
   "outputs": [
    {
     "name": "stdout",
     "output_type": "stream",
     "text": [
      "----------------------------------------------------------------\n",
      "        Layer (type)               Output Shape         Param #\n",
      "================================================================\n",
      "            Conv2d-1           [-1, 64, 28, 28]             640\n",
      "              ReLU-2           [-1, 64, 28, 28]               0\n",
      "            Conv2d-3           [-1, 64, 28, 28]          36,928\n",
      "              ReLU-4           [-1, 64, 28, 28]               0\n",
      "         MaxPool2d-5           [-1, 64, 14, 14]               0\n",
      "       BatchNorm2d-6           [-1, 64, 14, 14]             128\n",
      "            Conv2d-7          [-1, 128, 14, 14]          73,856\n",
      "              ReLU-8          [-1, 128, 14, 14]               0\n",
      "            Conv2d-9          [-1, 128, 14, 14]         147,584\n",
      "             ReLU-10          [-1, 128, 14, 14]               0\n",
      "        MaxPool2d-11            [-1, 128, 7, 7]               0\n",
      "      BatchNorm2d-12            [-1, 128, 7, 7]             256\n",
      "           Conv2d-13            [-1, 256, 7, 7]         295,168\n",
      "             ReLU-14            [-1, 256, 7, 7]               0\n",
      "           Conv2d-15            [-1, 256, 7, 7]         590,080\n",
      "             ReLU-16            [-1, 256, 7, 7]               0\n",
      "        MaxPool2d-17            [-1, 256, 3, 3]               0\n",
      "      BatchNorm2d-18            [-1, 256, 3, 3]             512\n",
      "           Conv2d-19            [-1, 512, 3, 3]       1,180,160\n",
      "             ReLU-20            [-1, 512, 3, 3]               0\n",
      "           Conv2d-21            [-1, 512, 3, 3]       2,359,808\n",
      "             ReLU-22            [-1, 512, 3, 3]               0\n",
      "        MaxPool2d-23            [-1, 512, 1, 1]               0\n",
      "      BatchNorm2d-24            [-1, 512, 1, 1]           1,024\n",
      "          Flatten-25                  [-1, 512]               0\n",
      "           Linear-26                   [-1, 64]          32,832\n",
      "             ReLU-27                   [-1, 64]               0\n",
      "          Dropout-28                   [-1, 64]               0\n",
      "           Linear-29                   [-1, 10]             650\n",
      "          Softmax-30                   [-1, 10]               0\n",
      "================================================================\n",
      "Total params: 4,719,626\n",
      "Trainable params: 4,719,626\n",
      "Non-trainable params: 0\n",
      "----------------------------------------------------------------\n",
      "Input size (MB): 0.00\n",
      "Forward/backward pass size (MB): 3.16\n",
      "Params size (MB): 18.00\n",
      "Estimated Total Size (MB): 21.16\n",
      "----------------------------------------------------------------\n"
     ]
    }
   ],
   "source": [
    "model = nn.Sequential()\n",
    "\n",
    "# Add 3 convolutional and pooling layers\n",
    "model.add_module('Conv_1', nn.Conv2d(in_channels=1, out_channels=64, kernel_size=(3,3), padding=1))\n",
    "model.add_module('Relu_1', nn.ReLU())\n",
    "model.add_module('Conv_2', nn.Conv2d(in_channels=64, out_channels=64, kernel_size=(3,3), padding=1))\n",
    "model.add_module('Relu_2', nn.ReLU())\n",
    "model.add_module('MaxPool_1', nn.MaxPool2d(kernel_size=2, stride = 2))\n",
    "model.add_module('Batchnorm_1', nn.BatchNorm2d(64))\n",
    "\n",
    "model.add_module('Conv_3', nn.Conv2d(in_channels=64, out_channels=128, kernel_size=(3,3), padding=1))\n",
    "model.add_module('Relu_3', nn.ReLU())\n",
    "model.add_module('Conv_4', nn.Conv2d(in_channels=128, out_channels=128, kernel_size=(3,3), padding=1))\n",
    "model.add_module('Relu_4', nn.ReLU())\n",
    "model.add_module('MaxPool_2', nn.MaxPool2d(kernel_size=2, stride = 2))\n",
    "model.add_module('Batchnorm_2', nn.BatchNorm2d(128))\n",
    "\n",
    "model.add_module('Conv_5', nn.Conv2d(in_channels=128, out_channels=256, kernel_size=(3,3), padding=1))\n",
    "model.add_module('Relu_5', nn.ReLU())\n",
    "model.add_module('Conv_6', nn.Conv2d(in_channels=256, out_channels=256, kernel_size = (3,3), padding=1))\n",
    "model.add_module('Relu_6', nn.ReLU())\n",
    "model.add_module('MaxPool_3', nn.MaxPool2d(kernel_size=2,stride=2))\n",
    "model.add_module('Batchnorm_3', nn.BatchNorm2d(256))\n",
    "\n",
    "model.add_module('Conv_7', nn.Conv2d(in_channels=256, out_channels=512, kernel_size=(3,3), padding=1))\n",
    "model.add_module('Relu_7', nn.ReLU())\n",
    "model.add_module('Conv_8', nn.Conv2d(in_channels=512, out_channels=512, kernel_size = (3,3), padding=1))\n",
    "model.add_module('Relu_8', nn.ReLU())\n",
    "model.add_module('MaxPool_4', nn.MaxPool2d(kernel_size=2,stride=2))\n",
    "model.add_module('Batchnorm_4', nn.BatchNorm2d(512))\n",
    "\n",
    "# Add a Flatten layer to the model\n",
    "model.add_module('Flatten', nn.Flatten())\n",
    "\n",
    "# Add a Linear layer with 64 units and relu activation\n",
    "model.add_module('Linear_1', nn.Linear(in_features=512, out_features=64, bias=True))\n",
    "model.add_module('Relu_L_1', nn.ReLU(inplace=True))\n",
    "model.add_module('Dropout_1', nn.Dropout(p = 0.5))\n",
    "model.add_module('Linear_3', nn.Linear(in_features = 64, out_features = 10, bias = True))\n",
    "model.add_module('Out_activation', nn.Softmax(-1))\n",
    "\n",
    "in_shape = (1,28,28)\n",
    "model = model.to(device)\n",
    "summary(model, input_size=(in_shape))"
   ],
   "metadata": {
    "collapsed": false,
    "ExecuteTime": {
     "end_time": "2023-07-23T10:30:41.215806300Z",
     "start_time": "2023-07-23T10:30:41.175726500Z"
    }
   }
  },
  {
   "cell_type": "markdown",
   "source": [
    "Set the hyperparameters"
   ],
   "metadata": {
    "collapsed": false
   }
  },
  {
   "cell_type": "code",
   "execution_count": 27,
   "outputs": [],
   "source": [
    "optimizer = optim.SGD(model.parameters(),momentum=0.9, lr=0.005, weight_decay= 5e-4)\n",
    "loss_func = nn.CrossEntropyLoss(reduction='mean')\n",
    "num_epochs = 100"
   ],
   "metadata": {
    "collapsed": false,
    "ExecuteTime": {
     "end_time": "2023-07-23T10:30:41.216811800Z",
     "start_time": "2023-07-23T10:30:41.212213100Z"
    }
   }
  },
  {
   "cell_type": "markdown",
   "source": [
    "Train the model"
   ],
   "metadata": {
    "collapsed": false
   }
  },
  {
   "cell_type": "code",
   "execution_count": 28,
   "outputs": [
    {
     "name": "stdout",
     "output_type": "stream",
     "text": [
      "Epoch 1/100 - Training Loss: 1.5552 - Validation Loss: 1.4737\n",
      "Epoch 2/100 - Training Loss: 1.4811 - Validation Loss: 1.4700\n",
      "Epoch 3/100 - Training Loss: 1.4761 - Validation Loss: 1.4689\n",
      "Epoch 4/100 - Training Loss: 1.4729 - Validation Loss: 1.4693\n",
      "Epoch 5/100 - Training Loss: 1.4709 - Validation Loss: 1.4674\n",
      "Epoch 6/100 - Training Loss: 1.4695 - Validation Loss: 1.4690\n",
      "Epoch 7/100 - Training Loss: 1.4686 - Validation Loss: 1.4677\n",
      "Epoch 8/100 - Training Loss: 1.4684 - Validation Loss: 1.4669\n",
      "Epoch 9/100 - Training Loss: 1.4675 - Validation Loss: 1.4661\n",
      "Epoch 10/100 - Training Loss: 1.4674 - Validation Loss: 1.4673\n",
      "Epoch 11/100 - Training Loss: 1.4664 - Validation Loss: 1.4685\n",
      "Epoch 12/100 - Training Loss: 1.4665 - Validation Loss: 1.4664\n",
      "Epoch 13/100 - Training Loss: 1.4659 - Validation Loss: 1.4665\n",
      "Epoch 14/100 - Training Loss: 1.4657 - Validation Loss: 1.4674\n",
      "Epoch 15/100 - Training Loss: 1.4652 - Validation Loss: 1.4660\n",
      "Epoch 16/100 - Training Loss: 1.4655 - Validation Loss: 1.4665\n",
      "Epoch 17/100 - Training Loss: 1.4651 - Validation Loss: 1.4663\n",
      "Epoch 18/100 - Training Loss: 1.4653 - Validation Loss: 1.4670\n",
      "Epoch 19/100 - Training Loss: 1.4654 - Validation Loss: 1.4661\n",
      "Epoch 20/100 - Training Loss: 1.4658 - Validation Loss: 1.4662\n"
     ]
    },
    {
     "ename": "KeyboardInterrupt",
     "evalue": "",
     "output_type": "error",
     "traceback": [
      "\u001B[1;31m---------------------------------------------------------------------------\u001B[0m",
      "\u001B[1;31mKeyboardInterrupt\u001B[0m                         Traceback (most recent call last)",
      "Cell \u001B[1;32mIn[28], line 17\u001B[0m\n\u001B[0;32m     15\u001B[0m test_loss \u001B[38;5;241m=\u001B[39m \u001B[38;5;241m0\u001B[39m\n\u001B[0;32m     16\u001B[0m \u001B[38;5;28;01mwith\u001B[39;00m torch\u001B[38;5;241m.\u001B[39mno_grad():\n\u001B[1;32m---> 17\u001B[0m     \u001B[38;5;28;01mfor\u001B[39;00m inputs, labels \u001B[38;5;129;01min\u001B[39;00m test_loader:\n\u001B[0;32m     18\u001B[0m         inputs \u001B[38;5;241m=\u001B[39m inputs\u001B[38;5;241m.\u001B[39mto(device)\n\u001B[0;32m     19\u001B[0m         labels \u001B[38;5;241m=\u001B[39m labels\u001B[38;5;241m.\u001B[39mto(device)\n",
      "File \u001B[1;32m~\\anaconda3\\Lib\\site-packages\\torch\\utils\\data\\dataloader.py:633\u001B[0m, in \u001B[0;36m_BaseDataLoaderIter.__next__\u001B[1;34m(self)\u001B[0m\n\u001B[0;32m    630\u001B[0m \u001B[38;5;28;01mif\u001B[39;00m \u001B[38;5;28mself\u001B[39m\u001B[38;5;241m.\u001B[39m_sampler_iter \u001B[38;5;129;01mis\u001B[39;00m \u001B[38;5;28;01mNone\u001B[39;00m:\n\u001B[0;32m    631\u001B[0m     \u001B[38;5;66;03m# TODO(https://github.com/pytorch/pytorch/issues/76750)\u001B[39;00m\n\u001B[0;32m    632\u001B[0m     \u001B[38;5;28mself\u001B[39m\u001B[38;5;241m.\u001B[39m_reset()  \u001B[38;5;66;03m# type: ignore[call-arg]\u001B[39;00m\n\u001B[1;32m--> 633\u001B[0m data \u001B[38;5;241m=\u001B[39m \u001B[38;5;28mself\u001B[39m\u001B[38;5;241m.\u001B[39m_next_data()\n\u001B[0;32m    634\u001B[0m \u001B[38;5;28mself\u001B[39m\u001B[38;5;241m.\u001B[39m_num_yielded \u001B[38;5;241m+\u001B[39m\u001B[38;5;241m=\u001B[39m \u001B[38;5;241m1\u001B[39m\n\u001B[0;32m    635\u001B[0m \u001B[38;5;28;01mif\u001B[39;00m \u001B[38;5;28mself\u001B[39m\u001B[38;5;241m.\u001B[39m_dataset_kind \u001B[38;5;241m==\u001B[39m _DatasetKind\u001B[38;5;241m.\u001B[39mIterable \u001B[38;5;129;01mand\u001B[39;00m \\\n\u001B[0;32m    636\u001B[0m         \u001B[38;5;28mself\u001B[39m\u001B[38;5;241m.\u001B[39m_IterableDataset_len_called \u001B[38;5;129;01mis\u001B[39;00m \u001B[38;5;129;01mnot\u001B[39;00m \u001B[38;5;28;01mNone\u001B[39;00m \u001B[38;5;129;01mand\u001B[39;00m \\\n\u001B[0;32m    637\u001B[0m         \u001B[38;5;28mself\u001B[39m\u001B[38;5;241m.\u001B[39m_num_yielded \u001B[38;5;241m>\u001B[39m \u001B[38;5;28mself\u001B[39m\u001B[38;5;241m.\u001B[39m_IterableDataset_len_called:\n",
      "File \u001B[1;32m~\\anaconda3\\Lib\\site-packages\\torch\\utils\\data\\dataloader.py:677\u001B[0m, in \u001B[0;36m_SingleProcessDataLoaderIter._next_data\u001B[1;34m(self)\u001B[0m\n\u001B[0;32m    675\u001B[0m \u001B[38;5;28;01mdef\u001B[39;00m \u001B[38;5;21m_next_data\u001B[39m(\u001B[38;5;28mself\u001B[39m):\n\u001B[0;32m    676\u001B[0m     index \u001B[38;5;241m=\u001B[39m \u001B[38;5;28mself\u001B[39m\u001B[38;5;241m.\u001B[39m_next_index()  \u001B[38;5;66;03m# may raise StopIteration\u001B[39;00m\n\u001B[1;32m--> 677\u001B[0m     data \u001B[38;5;241m=\u001B[39m \u001B[38;5;28mself\u001B[39m\u001B[38;5;241m.\u001B[39m_dataset_fetcher\u001B[38;5;241m.\u001B[39mfetch(index)  \u001B[38;5;66;03m# may raise StopIteration\u001B[39;00m\n\u001B[0;32m    678\u001B[0m     \u001B[38;5;28;01mif\u001B[39;00m \u001B[38;5;28mself\u001B[39m\u001B[38;5;241m.\u001B[39m_pin_memory:\n\u001B[0;32m    679\u001B[0m         data \u001B[38;5;241m=\u001B[39m _utils\u001B[38;5;241m.\u001B[39mpin_memory\u001B[38;5;241m.\u001B[39mpin_memory(data, \u001B[38;5;28mself\u001B[39m\u001B[38;5;241m.\u001B[39m_pin_memory_device)\n",
      "File \u001B[1;32m~\\anaconda3\\Lib\\site-packages\\torch\\utils\\data\\_utils\\fetch.py:51\u001B[0m, in \u001B[0;36m_MapDatasetFetcher.fetch\u001B[1;34m(self, possibly_batched_index)\u001B[0m\n\u001B[0;32m     49\u001B[0m         data \u001B[38;5;241m=\u001B[39m \u001B[38;5;28mself\u001B[39m\u001B[38;5;241m.\u001B[39mdataset\u001B[38;5;241m.\u001B[39m__getitems__(possibly_batched_index)\n\u001B[0;32m     50\u001B[0m     \u001B[38;5;28;01melse\u001B[39;00m:\n\u001B[1;32m---> 51\u001B[0m         data \u001B[38;5;241m=\u001B[39m [\u001B[38;5;28mself\u001B[39m\u001B[38;5;241m.\u001B[39mdataset[idx] \u001B[38;5;28;01mfor\u001B[39;00m idx \u001B[38;5;129;01min\u001B[39;00m possibly_batched_index]\n\u001B[0;32m     52\u001B[0m \u001B[38;5;28;01melse\u001B[39;00m:\n\u001B[0;32m     53\u001B[0m     data \u001B[38;5;241m=\u001B[39m \u001B[38;5;28mself\u001B[39m\u001B[38;5;241m.\u001B[39mdataset[possibly_batched_index]\n",
      "File \u001B[1;32m~\\anaconda3\\Lib\\site-packages\\torch\\utils\\data\\_utils\\fetch.py:51\u001B[0m, in \u001B[0;36m<listcomp>\u001B[1;34m(.0)\u001B[0m\n\u001B[0;32m     49\u001B[0m         data \u001B[38;5;241m=\u001B[39m \u001B[38;5;28mself\u001B[39m\u001B[38;5;241m.\u001B[39mdataset\u001B[38;5;241m.\u001B[39m__getitems__(possibly_batched_index)\n\u001B[0;32m     50\u001B[0m     \u001B[38;5;28;01melse\u001B[39;00m:\n\u001B[1;32m---> 51\u001B[0m         data \u001B[38;5;241m=\u001B[39m [\u001B[38;5;28mself\u001B[39m\u001B[38;5;241m.\u001B[39mdataset[idx] \u001B[38;5;28;01mfor\u001B[39;00m idx \u001B[38;5;129;01min\u001B[39;00m possibly_batched_index]\n\u001B[0;32m     52\u001B[0m \u001B[38;5;28;01melse\u001B[39;00m:\n\u001B[0;32m     53\u001B[0m     data \u001B[38;5;241m=\u001B[39m \u001B[38;5;28mself\u001B[39m\u001B[38;5;241m.\u001B[39mdataset[possibly_batched_index]\n",
      "File \u001B[1;32m~\\anaconda3\\Lib\\site-packages\\torchvision\\datasets\\mnist.py:145\u001B[0m, in \u001B[0;36mMNIST.__getitem__\u001B[1;34m(self, index)\u001B[0m\n\u001B[0;32m    142\u001B[0m img \u001B[38;5;241m=\u001B[39m Image\u001B[38;5;241m.\u001B[39mfromarray(img\u001B[38;5;241m.\u001B[39mnumpy(), mode\u001B[38;5;241m=\u001B[39m\u001B[38;5;124m\"\u001B[39m\u001B[38;5;124mL\u001B[39m\u001B[38;5;124m\"\u001B[39m)\n\u001B[0;32m    144\u001B[0m \u001B[38;5;28;01mif\u001B[39;00m \u001B[38;5;28mself\u001B[39m\u001B[38;5;241m.\u001B[39mtransform \u001B[38;5;129;01mis\u001B[39;00m \u001B[38;5;129;01mnot\u001B[39;00m \u001B[38;5;28;01mNone\u001B[39;00m:\n\u001B[1;32m--> 145\u001B[0m     img \u001B[38;5;241m=\u001B[39m \u001B[38;5;28mself\u001B[39m\u001B[38;5;241m.\u001B[39mtransform(img)\n\u001B[0;32m    147\u001B[0m \u001B[38;5;28;01mif\u001B[39;00m \u001B[38;5;28mself\u001B[39m\u001B[38;5;241m.\u001B[39mtarget_transform \u001B[38;5;129;01mis\u001B[39;00m \u001B[38;5;129;01mnot\u001B[39;00m \u001B[38;5;28;01mNone\u001B[39;00m:\n\u001B[0;32m    148\u001B[0m     target \u001B[38;5;241m=\u001B[39m \u001B[38;5;28mself\u001B[39m\u001B[38;5;241m.\u001B[39mtarget_transform(target)\n",
      "File \u001B[1;32m~\\anaconda3\\Lib\\site-packages\\torchvision\\transforms\\transforms.py:137\u001B[0m, in \u001B[0;36mToTensor.__call__\u001B[1;34m(self, pic)\u001B[0m\n\u001B[0;32m    129\u001B[0m \u001B[38;5;28;01mdef\u001B[39;00m \u001B[38;5;21m__call__\u001B[39m(\u001B[38;5;28mself\u001B[39m, pic):\n\u001B[0;32m    130\u001B[0m \u001B[38;5;250m    \u001B[39m\u001B[38;5;124;03m\"\"\"\u001B[39;00m\n\u001B[0;32m    131\u001B[0m \u001B[38;5;124;03m    Args:\u001B[39;00m\n\u001B[0;32m    132\u001B[0m \u001B[38;5;124;03m        pic (PIL Image or numpy.ndarray): Image to be converted to tensor.\u001B[39;00m\n\u001B[1;32m   (...)\u001B[0m\n\u001B[0;32m    135\u001B[0m \u001B[38;5;124;03m        Tensor: Converted image.\u001B[39;00m\n\u001B[0;32m    136\u001B[0m \u001B[38;5;124;03m    \"\"\"\u001B[39;00m\n\u001B[1;32m--> 137\u001B[0m     \u001B[38;5;28;01mreturn\u001B[39;00m F\u001B[38;5;241m.\u001B[39mto_tensor(pic)\n",
      "File \u001B[1;32m~\\anaconda3\\Lib\\site-packages\\torchvision\\transforms\\functional.py:174\u001B[0m, in \u001B[0;36mto_tensor\u001B[1;34m(pic)\u001B[0m\n\u001B[0;32m    172\u001B[0m img \u001B[38;5;241m=\u001B[39m img\u001B[38;5;241m.\u001B[39mpermute((\u001B[38;5;241m2\u001B[39m, \u001B[38;5;241m0\u001B[39m, \u001B[38;5;241m1\u001B[39m))\u001B[38;5;241m.\u001B[39mcontiguous()\n\u001B[0;32m    173\u001B[0m \u001B[38;5;28;01mif\u001B[39;00m \u001B[38;5;28misinstance\u001B[39m(img, torch\u001B[38;5;241m.\u001B[39mByteTensor):\n\u001B[1;32m--> 174\u001B[0m     \u001B[38;5;28;01mreturn\u001B[39;00m img\u001B[38;5;241m.\u001B[39mto(dtype\u001B[38;5;241m=\u001B[39mdefault_float_dtype)\u001B[38;5;241m.\u001B[39mdiv(\u001B[38;5;241m255\u001B[39m)\n\u001B[0;32m    175\u001B[0m \u001B[38;5;28;01melse\u001B[39;00m:\n\u001B[0;32m    176\u001B[0m     \u001B[38;5;28;01mreturn\u001B[39;00m img\n",
      "\u001B[1;31mKeyboardInterrupt\u001B[0m: "
     ]
    }
   ],
   "source": [
    "for epoch in range(num_epochs):\n",
    "    model.train()\n",
    "    train_loss = 0.0\n",
    "    for inputs, labels in train_loader:\n",
    "        inputs = inputs.to(device)\n",
    "        labels = labels.to(device)\n",
    "        optimizer.zero_grad()\n",
    "        outputs = model(inputs)\n",
    "        loss = loss_func(outputs, labels)\n",
    "        loss.backward()\n",
    "        optimizer.step()\n",
    "        train_loss += loss.item()\n",
    "\n",
    "    model.eval()\n",
    "    test_loss = 0\n",
    "    with torch.no_grad():\n",
    "        for inputs, labels in test_loader:\n",
    "            inputs = inputs.to(device)\n",
    "            labels = labels.to(device)\n",
    "            outputs = model(inputs)\n",
    "            loss = loss_func(outputs, labels)\n",
    "            test_loss += loss.item()\n",
    "    print(\n",
    "        f\"Epoch {epoch + 1}/{num_epochs} - Training Loss: {train_loss / len(train_loader):.4f} - Validation Loss: {test_loss / len(test_loader):.4f}\")\n"
   ],
   "metadata": {
    "collapsed": false,
    "ExecuteTime": {
     "end_time": "2023-07-23T10:38:42.032088500Z",
     "start_time": "2023-07-23T10:30:41.218812100Z"
    }
   }
  },
  {
   "cell_type": "markdown",
   "source": [
    "Evaluate the model"
   ],
   "metadata": {
    "collapsed": false
   }
  },
  {
   "cell_type": "code",
   "execution_count": 29,
   "outputs": [
    {
     "name": "stdout",
     "output_type": "stream",
     "text": [
      "Test accuracy: 0.996\n"
     ]
    }
   ],
   "source": [
    "model.eval()\n",
    "test_acc = 0\n",
    "for images, labels in test_loader:\n",
    "    images = images.to(device)\n",
    "    labels = labels.to(device)\n",
    "    predictions = model(images)\n",
    "    accuracy = (torch.max(predictions, dim=-1, keepdim=True)[1].flatten() == labels).sum() / len(labels)\n",
    "    test_acc += accuracy.item()\n",
    "test_acc /= len(test_loader)\n",
    "print(f\"Test accuracy: {test_acc:.3f}\")"
   ],
   "metadata": {
    "collapsed": false,
    "ExecuteTime": {
     "end_time": "2023-07-23T10:38:47.646971300Z",
     "start_time": "2023-07-23T10:38:46.349053900Z"
    }
   }
  },
  {
   "cell_type": "code",
   "execution_count": null,
   "outputs": [],
   "source": [],
   "metadata": {
    "collapsed": false
   }
  }
 ],
 "metadata": {
  "kernelspec": {
   "display_name": "Python 3",
   "language": "python",
   "name": "python3"
  },
  "language_info": {
   "codemirror_mode": {
    "name": "ipython",
    "version": 2
   },
   "file_extension": ".py",
   "mimetype": "text/x-python",
   "name": "python",
   "nbconvert_exporter": "python",
   "pygments_lexer": "ipython2",
   "version": "2.7.6"
  }
 },
 "nbformat": 4,
 "nbformat_minor": 0
}
